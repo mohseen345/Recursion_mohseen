{
 "cells": [
  {
   "attachments": {},
   "cell_type": "markdown",
   "metadata": {},
   "source": [
    "Q1. can you explain the logic and the working of the towerofhanoi algorithm by writing python program\n",
    "how does the recursion work and how are the movements of disks between rods accomplished?"
   ]
  },
  {
   "cell_type": "code",
   "execution_count": 4,
   "metadata": {},
   "outputs": [
    {
     "name": "stdout",
     "output_type": "stream",
     "text": [
      "move disk A to destination C\n",
      "move disk 2 from source A to destination B\n",
      "move disk C to destination B\n",
      "move disk 3 from source A to destination C\n",
      "move disk B to destination A\n",
      "move disk 2 from source B to destination C\n",
      "move disk A to destination C\n",
      "move disk 4 from source A to destination B\n",
      "move disk C to destination B\n",
      "move disk 2 from source C to destination A\n",
      "move disk B to destination A\n",
      "move disk 3 from source C to destination B\n",
      "move disk A to destination C\n",
      "move disk 2 from source A to destination B\n",
      "move disk C to destination B\n"
     ]
    }
   ],
   "source": [
    "def TowerofHanoi(n,source,destination,Auxilary):\n",
    "    if n==1:\n",
    "        print(\"move disk\",source,\"to destination\",destination)\n",
    "        return\n",
    "    TowerofHanoi(n-1,source,Auxilary,destination)\n",
    "    print(\"move disk\",n,\"from source\",source,\"to destination\",destination)\n",
    "    TowerofHanoi(n-1,Auxilary,destination,source)\n",
    "n=4\n",
    "TowerofHanoi(n,'A','B','C')\n",
    "#time complexity O(2^n)\n",
    "#time complexity O(n)"
   ]
  },
  {
   "attachments": {},
   "cell_type": "markdown",
   "metadata": {},
   "source": [
    "Q2Given two strings word1 and word2, return the minimum number of operation required to convert word1 to word2"
   ]
  },
  {
   "cell_type": "code",
   "execution_count": 7,
   "metadata": {},
   "outputs": [
    {
     "name": "stdout",
     "output_type": "stream",
     "text": [
      "3\n"
     ]
    }
   ],
   "source": [
    "def editdistance(str1,str2,m,n):\n",
    "    if m==0:\n",
    "        return n\n",
    "    if n==0:\n",
    "        return m\n",
    "    if str1[m-1]==str2[n-1]:\n",
    "        return editdistance(str1,str2,m-1,n-1)\n",
    "    return 1+min(editdistance(str1,str2,m-1,n),editdistance(str1,str2,m-1,n-1))\n",
    "#drivercode\n",
    "str1=\"horse\"\n",
    "str2=\"ros\"\n",
    "print(editdistance(str1,str2,len(str1),len(str2)))"
   ]
  },
  {
   "cell_type": "code",
   "execution_count": 9,
   "metadata": {},
   "outputs": [
    {
     "name": "stdout",
     "output_type": "stream",
     "text": [
      "5\n"
     ]
    }
   ],
   "source": [
    "def editdistance(str1,str2,m,n):\n",
    "    if m==0:\n",
    "        return n\n",
    "    if n==0:\n",
    "        return m\n",
    "    if str1[m-1]==str2[n-1]:\n",
    "        return editdistance(str1,str2,m-1,n-1)\n",
    "    return 1+min(editdistance(str1,str2,m-1,n),editdistance(str1,str2,m-1,n-1),editdistance(str1,str2,m,n-1))\n",
    "#drivercode\n",
    "str1=\"Intention\"\n",
    "str2=\"execution\"\n",
    "print(editdistance(str1,str2,len(str1),len(str2)))"
   ]
  },
  {
   "attachments": {},
   "cell_type": "markdown",
   "metadata": {},
   "source": [
    "Q3 print the max value of the array[13,1,-3,22,5]"
   ]
  },
  {
   "cell_type": "code",
   "execution_count": 36,
   "metadata": {},
   "outputs": [
    {
     "name": "stdout",
     "output_type": "stream",
     "text": [
      "22\n"
     ]
    }
   ],
   "source": [
    "def findmaxrec(A,n):\n",
    "    if (n==1):\n",
    "        return A[0]\n",
    "    return max(A[n-1],findmaxrec(A,n-1))\n",
    "A=[13,1,-3,22,5]\n",
    "n=len(A)\n",
    "print(findmaxrec(A,n))"
   ]
  },
  {
   "attachments": {},
   "cell_type": "markdown",
   "metadata": {},
   "source": [
    "Q4 Find the sum of the values of the array[92,23,15,-20,10]"
   ]
  },
  {
   "cell_type": "code",
   "execution_count": 12,
   "metadata": {},
   "outputs": [
    {
     "name": "stdout",
     "output_type": "stream",
     "text": [
      "120\n"
     ]
    }
   ],
   "source": [
    "\n",
    "\n",
    "#4 python program to find sum of array\n",
    "#elements using recursion\n",
    "#return sumof elemts in A[0...N-1]\n",
    "#using Recursion\n",
    "def findsum(arr,n):\n",
    "    if n<=0:\n",
    "        return 0\n",
    "    else:\n",
    "        return findsum(arr,n-1)+arr[n-1]\n",
    "    #driver code\n",
    "arr=[]\n",
    "arr=[92,23,15,-20,10]\n",
    "n=len(arr)\n",
    "ans=findsum(arr,n)\n",
    "print(ans)"
   ]
  },
  {
   "attachments": {},
   "cell_type": "markdown",
   "metadata": {},
   "source": [
    "Q5. given a number n,print if it is an armstrong number or not, an armstrong number is a number, if the sum\n",
    "of every digit that number raised to the power of total digits in that number is equal to the number"
   ]
  },
  {
   "cell_type": "code",
   "execution_count": 33,
   "metadata": {},
   "outputs": [
    {
     "name": "stdout",
     "output_type": "stream",
     "text": [
      "False\n",
      "False\n"
     ]
    }
   ],
   "source": [
    "def isArmStrong(val:int):\n",
    "    parts=[int(_)for _ in str(val)]\n",
    "    #begin test\n",
    "    counter=0\n",
    "    for _ in parts:\n",
    "        counter+=_**3\n",
    "        return (counter==val)\n",
    "print(isArmStrong(153))\n",
    "print(isArmStrong(134))"
   ]
  },
  {
   "cell_type": "code",
   "execution_count": null,
   "metadata": {},
   "outputs": [],
   "source": []
  }
 ],
 "metadata": {
  "kernelspec": {
   "display_name": "Python 3",
   "language": "python",
   "name": "python3"
  },
  "language_info": {
   "codemirror_mode": {
    "name": "ipython",
    "version": 3
   },
   "file_extension": ".py",
   "mimetype": "text/x-python",
   "name": "python",
   "nbconvert_exporter": "python",
   "pygments_lexer": "ipython3",
   "version": "3.11.1"
  },
  "orig_nbformat": 4
 },
 "nbformat": 4,
 "nbformat_minor": 2
}
